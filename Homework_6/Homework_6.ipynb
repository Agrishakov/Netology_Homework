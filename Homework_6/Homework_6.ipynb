{
 "cells": [
  {
   "cell_type": "markdown",
   "metadata": {},
   "source": [
    "### Домашнее задание к лекции Работа с файловой системой и модули\n",
    "\n",
    "Учтите условия на данные:\n",
    "содержимое purchase_log.txt помещается в оперативную память компьютера\n",
    "содержимое visit_log.csv - нет; используйте только построчную обработку этого файла"
   ]
  },
  {
   "cell_type": "markdown",
   "metadata": {},
   "source": [
    "#### Задание 1\n",
    "\n",
    "Переведите содержимое файла purchase_log.txt в словарь purchases вида: {‘1840e0b9d4’: ‘Продукты’, …}\n"
   ]
  },
  {
   "cell_type": "code",
   "execution_count": 1,
   "metadata": {},
   "outputs": [],
   "source": [
    "import json"
   ]
  },
  {
   "cell_type": "code",
   "execution_count": 2,
   "metadata": {},
   "outputs": [
    {
     "name": "stdout",
     "output_type": "stream",
     "text": [
      "('1840e0b9d4', 'Продукты')\n",
      "('4e4f90fcfb', 'Электроника')\n",
      "('afea8d72fc', 'Электроника')\n",
      "('373a6055fe', 'Бытовая техника')\n",
      "('9b2ab046f3', 'Электроника')\n"
     ]
    }
   ],
   "source": [
    "purchases = dict()\n",
    "with open('purchase_log.txt', encoding='utf-8') as pur_log:\n",
    "    for num, row in enumerate(pur_log):\n",
    "        if num > 0:\n",
    "            purchases[json.loads(row)['user_id']] = json.loads(row)['category']\n",
    "    [print(row) for num, row in enumerate(purchases.items()) if num < 5]"
   ]
  },
  {
   "cell_type": "markdown",
   "metadata": {},
   "source": [
    "#### Задание 2\n",
    "\n",
    "Для каждого user_id в файле visit_log.csv определите третий столбец с категорией покупки (если покупка была, сам файл visit_log.csv изменять не надо). Запишите в файл funnel.csv визиты из файла visit_log.csv, в которых были покупки с указанием категории."
   ]
  },
  {
   "cell_type": "code",
   "execution_count": 5,
   "metadata": {},
   "outputs": [
    {
     "name": "stdout",
     "output_type": "stream",
     "text": [
      "user_id,source,category\n",
      "1840e0b9d4,other,Продукты\n",
      "4e4f90fcfb,context,Электроника\n",
      "afea8d72fc,other,Электроника\n",
      "2824221f38,email,Продукты\n"
     ]
    }
   ],
   "source": [
    "with open('visit_log.csv') as vis_log:\n",
    "    with open('funnel.csv', 'w', encoding='utf-8') as funnel:\n",
    "        funnel.write(\"user_id,source,category\\n\")\n",
    "        for num, row in enumerate(vis_log):\n",
    "            if num > 0 and row.strip().split(',')[0] in purchases.keys():\n",
    "                funnel.write(f\"{row.strip()},{purchases[row.strip().split(',')[0]]}\\n\")\n",
    "\n",
    "with open('funnel.csv', encoding='utf-8') as file_:\n",
    "    [print(row.strip()) for num, row in enumerate(file_) if num < 5]"
   ]
  }
 ],
 "metadata": {
  "kernelspec": {
   "display_name": "Python 3",
   "language": "python",
   "name": "python3"
  },
  "language_info": {
   "codemirror_mode": {
    "name": "ipython",
    "version": 3
   },
   "file_extension": ".py",
   "mimetype": "text/x-python",
   "name": "python",
   "nbconvert_exporter": "python",
   "pygments_lexer": "ipython3",
   "version": "3.8.5"
  }
 },
 "nbformat": 4,
 "nbformat_minor": 4
}

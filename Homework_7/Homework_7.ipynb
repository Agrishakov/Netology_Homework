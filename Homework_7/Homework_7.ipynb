{
 "cells": [
  {
   "cell_type": "markdown",
   "metadata": {},
   "source": [
    "### Домашнее задание к лекции «Исключения и обработка ошибок»\n",
    "\n",
    "#### Задание 1\n",
    "\n",
    "Печатные газеты использовали свой формат дат для каждого выпуска. Для каждой газеты из списка напишите формат указанной даты для перевода в объект datetime:\n",
    "- The Moscow Times - Wednesday, October 2, 2002\n",
    "- The Guardian - Friday, 11.10.13\n",
    "- Daily News - Thursday, 18 August 1977\n"
   ]
  },
  {
   "cell_type": "code",
   "execution_count": 1,
   "metadata": {},
   "outputs": [],
   "source": [
    "from datetime import datetime as dt\n",
    "from datetime import timedelta as td\n",
    "\n",
    "mos_time = 'Wednesday, October 2, 2002'\n",
    "guard = 'Friday, 11.10.13'\n",
    "dai_news = 'Thursday, 18 August 1977'"
   ]
  },
  {
   "cell_type": "code",
   "execution_count": 2,
   "metadata": {},
   "outputs": [
    {
     "name": "stdout",
     "output_type": "stream",
     "text": [
      "Date: 2002-10-02 00:00:00\n",
      "Date: 2013-10-11 00:00:00 Weekday: 4\n",
      "Date: 1977-08-18 00:00:00\n"
     ]
    }
   ],
   "source": [
    "mos_time_dt = dt.strptime(mos_time, '%A, %B %d, %Y')\n",
    "guard_dt = dt.strptime(guard, '%A, %d.%m.%y')\n",
    "dai_news_dt = dt.strptime(dai_news, '%A, %d %B %Y')\n",
    "print('Date:', mos_time_dt)\n",
    "print('Date:', guard_dt, 'Weekday:', guard_dt.weekday())\n",
    "print('Date:', dai_news_dt)"
   ]
  },
  {
   "cell_type": "markdown",
   "metadata": {},
   "source": [
    "#### Задание 2\n",
    "\n",
    "Дан поток дат в формате YYYY-MM-DD, в которых встречаются некорректные значения:\n",
    "stream = [‘2018-04-02’, ‘2018-02-29’, ‘2018-19-02’]\n",
    "\n",
    "Напишите функцию, которая проверяет эти даты на корректность. Т.е. для каждой даты возвращает True (дата корректна) \n",
    "или False (некорректная дата)."
   ]
  },
  {
   "cell_type": "code",
   "execution_count": 3,
   "metadata": {},
   "outputs": [
    {
     "name": "stdout",
     "output_type": "stream",
     "text": [
      "[True, False, False]\n"
     ]
    }
   ],
   "source": [
    "stream = ['2018-04-02', '2018-02-29', '2018-19-02']\n",
    "\n",
    "def date_check(datelist):\n",
    "    result = []\n",
    "    for date in datelist:\n",
    "        try:\n",
    "            date_dt = dt.strptime(date, '%Y-%m-%d')\n",
    "            result.append(True)\n",
    "        except:\n",
    "            result.append(False)\n",
    "    return result\n",
    "\n",
    "print(date_check(stream))"
   ]
  },
  {
   "cell_type": "markdown",
   "metadata": {},
   "source": [
    "#### Задание 3\n",
    "\n",
    "Напишите функцию date_range, которая возвращает список дат за период от start_date до end_date. Даты должны вводиться в формате YYYY-MM-DD. В случае неверного формата или при start_date > end_date должен возвращаться пустой список."
   ]
  },
  {
   "cell_type": "code",
   "execution_count": 4,
   "metadata": {},
   "outputs": [
    {
     "data": {
      "text/plain": [
       "['2018-03-20',\n",
       " '2018-03-21',\n",
       " '2018-03-22',\n",
       " '2018-03-23',\n",
       " '2018-03-24',\n",
       " '2018-03-25',\n",
       " '2018-03-26',\n",
       " '2018-03-27',\n",
       " '2018-03-28',\n",
       " '2018-03-29',\n",
       " '2018-03-30',\n",
       " '2018-03-31',\n",
       " '2018-04-01',\n",
       " '2018-04-02']"
      ]
     },
     "execution_count": 4,
     "metadata": {},
     "output_type": "execute_result"
    }
   ],
   "source": [
    "def date_range(start_date, end_date):\n",
    "    result = []\n",
    "    start_date_dt = dt.strptime(start_date, '%Y-%m-%d')\n",
    "    end_date_dt = dt.strptime(end_date, '%Y-%m-%d')\n",
    "    if False in date_check([start_date, end_date]) or start_date > end_date:\n",
    "        return []\n",
    "    else:\n",
    "        while end_date_dt >= start_date_dt:\n",
    "            result.append(dt.strftime(start_date_dt, '%Y-%m-%d'))\n",
    "            start_date_dt += td(days=1)\n",
    "        return result\n",
    "       \n",
    "date_range('2018-03-20', '2018-04-02')"
   ]
  },
  {
   "cell_type": "markdown",
   "metadata": {},
   "source": [
    "#### Задание 4 (бонусное)\n",
    "\n",
    "Ваш коллега прислал код функции:"
   ]
  },
  {
   "cell_type": "code",
   "execution_count": null,
   "metadata": {},
   "outputs": [],
   "source": [
    "DEFAULT_USER_COUNT = 3\n",
    "\n",
    "def delete_and_return_last_user(region, default_list=['A100', 'A101', 'A102']):\n",
    "\"\"\"\n",
    "Удаляет из списка default_list последнего пользователя\n",
    "и возвращает ID нового последнего пользователя.\n",
    "\"\"\"\n",
    "    element_to_delete = default_list[-1]\n",
    "    default_list.remove(element_to_delete)\n",
    "    return default_list[DEFAULT_USER_COUNT-2]\n",
    "\n",
    "delete_and_return_last_user(1)"
   ]
  },
  {
   "cell_type": "markdown",
   "metadata": {},
   "source": [
    "При однократном вызове этой функции все работает корректно:  \n",
    "delete_and_return_last_user(1)  \n",
    "‘A101’\n",
    "\n",
    "Однако, при повторном вызове получается ошибка IndexError: list index out of range.  \n",
    "\n",
    "#### Задание:\n",
    "\n",
    "1. Что значит ошибка list index out of range?  \n",
    "2. Почему при первом запуске функция работает корректно, а при втором - нет?"
   ]
  },
  {
   "cell_type": "markdown",
   "metadata": {},
   "source": [
    "#### Ответ:\n",
    "1. Элемента с таким индексом нет в указанном списке. В нашем случае default_list = ['A100'], default_list[1] не существует.\n",
    "2. Объявив в функции параметр по умолчанию, мы создали изменяемый объект - список default_list из трех элементов. Первый запуск функции оставил в списке два элемента. После второго запуска функции в списке default_list остается только первый элемент (с индексом \"0\") а мы пытаемся вернуть элемент с индексом \"1\""
   ]
  },
  {
   "cell_type": "code",
   "execution_count": null,
   "metadata": {},
   "outputs": [],
   "source": []
  }
 ],
 "metadata": {
  "kernelspec": {
   "display_name": "Python 3",
   "language": "python",
   "name": "python3"
  },
  "language_info": {
   "codemirror_mode": {
    "name": "ipython",
    "version": 3
   },
   "file_extension": ".py",
   "mimetype": "text/x-python",
   "name": "python",
   "nbconvert_exporter": "python",
   "pygments_lexer": "ipython3",
   "version": "3.8.5"
  }
 },
 "nbformat": 4,
 "nbformat_minor": 4
}

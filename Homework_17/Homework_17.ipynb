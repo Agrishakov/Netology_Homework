{
 "cells": [
  {
   "cell_type": "markdown",
   "metadata": {},
   "source": [
    "### Домашнее задание к лекции «Случайные события. Случайные величины»"
   ]
  },
  {
   "cell_type": "markdown",
   "metadata": {},
   "source": [
    "Смоделировать игру против лотерейного автомата типа “777”.  \n",
    "Игрок платит 1 руб., после чего выпадает случайное целое число, равномерно распределенное от 0 до 999. \n",
    "При некоторых значениях числа игрок получает выигрыш (см. справа)  \n",
    "\n",
    "Выгодна ли игра игроку?  \n",
    "\n",
    "Сколько в среднем приобретает  \n",
    "или теряет игрок за одну игру?  \n",
    "\n",
    "777: 200 руб.  \n",
    "999: 100 руб.  \n",
    "555: 50 руб.  \n",
    "333: 15 руб.  \n",
    "111: 10 руб.  \n",
    "\\*77: 5 руб.  \n",
    "\\*\\**7: 3 руб.  \n",
    "\\**00: 2 руб.  \n",
    "\\**0: 1 руб.  \n",
    "\n",
    "\\* любая цифра  \n",
    "Дополнительное задание повышенной сложности. Теоретически рассчитать средний выигрыш (проигрыш) и сравнить   \n",
    "с результатами моделирования  "
   ]
  },
  {
   "cell_type": "code",
   "execution_count": 1,
   "metadata": {},
   "outputs": [
    {
     "data": {
      "text/plain": [
       "0.7999999999999999"
      ]
     },
     "execution_count": 1,
     "metadata": {},
     "output_type": "execute_result"
    }
   ],
   "source": [
    "# Расчет полной вероятности\n",
    "\n",
    "(200 + 100 + 50 + 15 + 10) * 0.001 + 5 * 0.009 + 3 * 0.09 + 2 * 0.01 + 1 * 0.09"
   ]
  },
  {
   "cell_type": "code",
   "execution_count": 3,
   "metadata": {},
   "outputs": [],
   "source": [
    "import numpy as np"
   ]
  },
  {
   "cell_type": "code",
   "execution_count": 5,
   "metadata": {},
   "outputs": [
    {
     "name": "stdout",
     "output_type": "stream",
     "text": [
      "Wall time: 57.2 s\n"
     ]
    },
    {
     "data": {
      "text/plain": [
       "0.80078585"
      ]
     },
     "execution_count": 5,
     "metadata": {},
     "output_type": "execute_result"
    }
   ],
   "source": [
    "%%time\n",
    "\n",
    "trials = 20000000\n",
    "successes = 0\n",
    "for i in range(trials):\n",
    "    random_score = np.random.randint(0, 1000)\n",
    "    if random_score == 777:\n",
    "        successes += 200\n",
    "    elif random_score == 999:\n",
    "        successes += 100\n",
    "    elif random_score == 555:\n",
    "        successes += 50\n",
    "    elif random_score == 333:\n",
    "        successes += 15\n",
    "    elif random_score == 111:\n",
    "        successes += 10\n",
    "    elif random_score % 100 == 77:\n",
    "        successes += 5\n",
    "    elif random_score % 10 == 7:\n",
    "        successes += 3\n",
    "    elif random_score % 100 == 0:\n",
    "        successes += 2\n",
    "    elif random_score % 10 == 0:\n",
    "        successes += 1\n",
    "        \n",
    "successes / trials"
   ]
  },
  {
   "cell_type": "markdown",
   "metadata": {},
   "source": [
    "Игра не выгодна. В среднем игрок теряет 20 копеек за игру"
   ]
  }
 ],
 "metadata": {
  "kernelspec": {
   "display_name": "Python 3",
   "language": "python",
   "name": "python3"
  },
  "language_info": {
   "codemirror_mode": {
    "name": "ipython",
    "version": 3
   },
   "file_extension": ".py",
   "mimetype": "text/x-python",
   "name": "python",
   "nbconvert_exporter": "python",
   "pygments_lexer": "ipython3",
   "version": "3.8.5"
  }
 },
 "nbformat": 4,
 "nbformat_minor": 4
}

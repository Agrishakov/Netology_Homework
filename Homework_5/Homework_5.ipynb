{
 "cells": [
  {
   "cell_type": "markdown",
   "metadata": {},
   "source": [
    "## Домашнее задание к лекции \"Функции\"\n",
    "\n",
    "Вам нужно помочь секретарю автоматизировать работу. Для этого нужно написать программу, которая будет на основе хранимых данных исполнять пользовательские команды.\n",
    "\n",
    "Общие требования к программе:\n",
    "\n",
    "- код должен быть грамотно декомпозирован (каждая функция отвечает за свою конкретную задачу, дублирующийся функционал переиспользуется, а его код не повторяется);\n",
    "- в коде отсутствуют глобальные переменные (за исключением documents и directories);\n",
    "- пользовательский ввод обрабатывается в цикле while до тех пор, пока пользователь явно не завершит программу (вводом команды \"q\")."
   ]
  },
  {
   "cell_type": "code",
   "execution_count": 75,
   "metadata": {},
   "outputs": [],
   "source": [
    "DOCUMENTS = [\n",
    " {'type': 'passport', 'number': '2207 876234', 'name': 'Василий Гупкин'},\n",
    " {'type': 'invoice', 'number': '11-2', 'name': 'Геннадий Покемонов'},\n",
    " {'type': 'insurance', 'number': '10006', 'name': 'Аристарх Павлов'}\n",
    "]\n",
    "\n",
    "DIRECTORIES = {\n",
    " '1': ['2207 876234', '11-2'],\n",
    " '2': ['10006'],\n",
    " '3': []\n",
    "}"
   ]
  },
  {
   "cell_type": "code",
   "execution_count": 26,
   "metadata": {},
   "outputs": [],
   "source": [
    "def input_command():\n",
    "    \"\"\"\n",
    "    check if user input is correct otherwise return list of commands\n",
    "    \"\"\"\n",
    "    command = input('Введите команду: ')\n",
    "    while (command != 'p' and command != 's' and command != '/' and command != 'ads' and command != 'ds'\n",
    "           and command != 'ad' and command != 'd' and command != 'm' and command != 'q'):\n",
    "        print(\"\"\"\n",
    "        Введите корректную команду\n",
    "            \"p\" - узнать владельца документа по его номеру\n",
    "            \"s\" - по номеру документа узнать на какой полке он хранится\n",
    "            \"/\" - полная информация по всем документам\n",
    "            \"ads\" - добавить новую полку\n",
    "            \"ds\" - удалить существующую полку из данных (только если она пустая)\n",
    "            \"ad\" - добавить новый документ в данные\n",
    "            \"d\" - удалить документ из данных\n",
    "            \"m\" - переместить документ с полки на полку\n",
    "            \"q\" - завершить исполнение программы\n",
    "             \"\"\")\n",
    "        command = input('Введите команду:')\n",
    "    else:\n",
    "        return command"
   ]
  },
  {
   "cell_type": "markdown",
   "metadata": {},
   "source": [
    "### Задание 1\n",
    "\n",
    "##### Пункт 1. Пользователь по команде \"p\" может узнать владельца документа по его номеру"
   ]
  },
  {
   "cell_type": "code",
   "execution_count": 31,
   "metadata": {},
   "outputs": [
    {
     "name": "stdout",
     "output_type": "stream",
     "text": [
      "Введите номер документа:10006\n",
      "Владелец документа: Аристарх Павлов\n",
      "Введите номер документа:123456\n",
      "Документ не найден в базе\n"
     ]
    }
   ],
   "source": [
    "def check(number, documents):\n",
    "    result = str()\n",
    "    for document in documents:\n",
    "        if document['number'] == number:\n",
    "            return 'Владелец документа: ' + document['name']\n",
    "    return \n",
    "\n",
    "\n",
    "def command_p(documents):\n",
    "    doc_number = input('Введите номер документа:')\n",
    "    if check(doc_number, documents):\n",
    "        return check(doc_number, documents)\n",
    "    else:\n",
    "        return 'Документ не найден в базе'\n",
    "\n",
    "\n",
    "print(command_p(DOCUMENTS))\n",
    "print(command_p(DOCUMENTS))"
   ]
  },
  {
   "cell_type": "markdown",
   "metadata": {},
   "source": [
    "##### Пункт 2. Пользователь по команде \"s\" может по номеру документа узнать на какой полке он хранится"
   ]
  },
  {
   "cell_type": "code",
   "execution_count": 43,
   "metadata": {},
   "outputs": [
    {
     "name": "stdout",
     "output_type": "stream",
     "text": [
      "Введите номер полки: 10006\n",
      "Документ хранится на полке: 2\n",
      "Введите номер полки: 123456\n",
      "Документ не найден в базе\n"
     ]
    }
   ],
   "source": [
    "def get_shelf_number(number, directories):\n",
    "    for shelf, numbers in directories.items():\n",
    "        if number in numbers:\n",
    "            return shelf\n",
    "\n",
    "\n",
    "def command_s(documents, directories):\n",
    "    shelf_number = input('Введите номер полки: ')\n",
    "    if check(number=shelf_number, documents=documents):\n",
    "        return 'Документ хранится на полке: ' + str(get_shelf_number(number=shelf_number, directories=directories))\n",
    "    else:\n",
    "        return 'Документ не найден в базе'\n",
    "\n",
    "print(command_s(documents=DOCUMENTS, directories=DIRECTORIES))\n",
    "print(command_s(documents=DOCUMENTS, directories=DIRECTORIES))"
   ]
  },
  {
   "cell_type": "markdown",
   "metadata": {},
   "source": [
    "#### Пункт 3. Пользователь по команде \"/\" может увидеть полную информацию по всем документам"
   ]
  },
  {
   "cell_type": "code",
   "execution_count": 47,
   "metadata": {},
   "outputs": [
    {
     "name": "stdout",
     "output_type": "stream",
     "text": [
      "№: 2207 876234, тип: passport, владелец: Василий Гупкин, полка хранения: 1 \n",
      "№: 11-2, тип: invoice, владелец: Геннадий Покемонов, полка хранения: 1 \n",
      "№: 10006, тип: insurance, владелец: Аристарх Павлов, полка хранения: 2 \n",
      "\n"
     ]
    }
   ],
   "source": [
    "def command_list(documents, directories):\n",
    "    result_string = ''\n",
    "    for document in documents:\n",
    "        result_string += (f\"№: {document['number']}, тип: {document['type']}, владелец: {document['name']}, \"\n",
    "                          f\"полка хранения: {get_shelf_number(number=document['number'], directories=directories)} \\n\")\n",
    "    return result_string\n",
    "\n",
    "\n",
    "print(command_line(documents=DOCUMENTS, directories=DIRECTORIES))"
   ]
  },
  {
   "cell_type": "markdown",
   "metadata": {},
   "source": [
    "#### Пункт 4. Пользователь по команде \"ads\" может добавить новую полку"
   ]
  },
  {
   "cell_type": "code",
   "execution_count": 49,
   "metadata": {},
   "outputs": [
    {
     "name": "stdout",
     "output_type": "stream",
     "text": [
      "Введите номер полки: 1\n",
      "Такая полка уже существует. Текущий перечень полок: 1, 2, 3\n",
      "Введите номер полки: 10\n",
      "Полка добавлена. Текущий перечень полок: 1, 2, 3, 10\n"
     ]
    }
   ],
   "source": [
    "def command_ads(directories):\n",
    "    shelf_number = input('Введите номер полки: ')\n",
    "    if shelf_number in directories.keys():\n",
    "        return 'Такая полка уже существует. Текущий перечень полок: ' + \", \".join(list(directories.keys()))\n",
    "    else:\n",
    "        directories[shelf_number] = []\n",
    "        return 'Полка добавлена. Текущий перечень полок: ' + \", \".join(list(directories.keys()))\n",
    "    \n",
    "print(command_ads(DIRECTORIES))\n",
    "print(command_ads(DIRECTORIES))"
   ]
  },
  {
   "cell_type": "markdown",
   "metadata": {},
   "source": [
    "#### Пункт 5. Пользователь по команде \"ds\" может удалить существующую полку из данных (только если она пустая)"
   ]
  },
  {
   "cell_type": "code",
   "execution_count": 52,
   "metadata": {},
   "outputs": [
    {
     "name": "stdout",
     "output_type": "stream",
     "text": [
      "Введите номер полки: 1\n",
      "На полке есть документ(ты), удалите их перед удалением полки. Текущий перечень полок: 1, 2, 3, 10\n",
      "Введите номер полки: 4\n",
      "Такой полки не существует. Текущий перечень полок: 1, 2, 3, 10\n",
      "Введите номер полки: 3\n",
      "Полка удалена. Текущий перечень полок: 1, 2, 10\n"
     ]
    }
   ],
   "source": [
    "def command_ds(directories):\n",
    "    shelf_number = input('Введите номер полки: ')\n",
    "    if shelf_number in directories.keys() and directories[shelf_number] == []:\n",
    "        del (directories[shelf_number])\n",
    "        return 'Полка удалена. Текущий перечень полок: ' + \", \".join(list(directories.keys()))\n",
    "    elif shelf_number in directories.keys():\n",
    "        return ('На полке есть документ(ты), удалите их перед удалением полки. Текущий перечень полок: ' +\n",
    "                \", \".join(list(directories.keys())))\n",
    "    else:\n",
    "        return 'Такой полки не существует. Текущий перечень полок: ' + \", \".join(list(directories.keys()))\n",
    "\n",
    "\n",
    "print(command_ds(DIRECTORIES))\n",
    "print(command_ds(DIRECTORIES))\n",
    "print(command_ds(DIRECTORIES))"
   ]
  },
  {
   "cell_type": "markdown",
   "metadata": {},
   "source": [
    "### Задание 2 (необязательное)\n",
    "\n",
    "Вам необходимо дополнить программу из задания 1 более продвинутыми командами."
   ]
  },
  {
   "cell_type": "markdown",
   "metadata": {},
   "source": [
    "#### Пункт 1. Пользователь по команде \"ad\" может добавить новый документ в данные"
   ]
  },
  {
   "cell_type": "code",
   "execution_count": 55,
   "metadata": {},
   "outputs": [
    {
     "name": "stdout",
     "output_type": "stream",
     "text": [
      "Введите номер документа: 42\n",
      "Введите тип документа: multipassport\n",
      "Введите владельца документа: R2D2\n",
      "Введите полку для хранения: 4\n",
      "Такой полки не существует. Добавьте полку командой ads. \n",
      "Текущий список документов: \n",
      "№: 2207 876234, тип: passport, владелец: Василий Гупкин, полка хранения: 1 \n",
      "№: 11-2, тип: invoice, владелец: Геннадий Покемонов, полка хранения: 1 \n",
      "№: 10006, тип: insurance, владелец: Аристарх Павлов, полка хранения: 2 \n",
      "\n",
      "Введите номер документа: 42\n",
      "Введите тип документа: multipassport\n",
      "Введите владельца документа: R2D2\n",
      "Введите полку для хранения: 3\n",
      "Документ добавлен. Текущий список документов: \n",
      "№: 2207 876234, тип: passport, владелец: Василий Гупкин, полка хранения: 1 \n",
      "№: 11-2, тип: invoice, владелец: Геннадий Покемонов, полка хранения: 1 \n",
      "№: 10006, тип: insurance, владелец: Аристарх Павлов, полка хранения: 2 \n",
      "№: 42, тип: multipassport, владелец: R2D2, полка хранения: 3 \n",
      "\n"
     ]
    }
   ],
   "source": [
    "def command_ad(documents, directories):\n",
    "    input_dict = {\n",
    "        'number': input('Введите номер документа: '),\n",
    "        'type': input('Введите тип документа: '),\n",
    "        'name': input('Введите владельца документа: ')\n",
    "    }\n",
    "    shelf_number = input('Введите полку для хранения: ')\n",
    "    if shelf_number in list(directories.keys()):\n",
    "        documents.append(input_dict)\n",
    "        directories[shelf_number] = [documents[-1]['number']]\n",
    "        return 'Документ добавлен. Текущий список документов: \\n' + \\\n",
    "               command_list(documents, directories)\n",
    "    else:\n",
    "        return 'Такой полки не существует. Добавьте полку командой ads. \\n' + 'Текущий список документов: \\n' + \\\n",
    "               command_list(documents, directories)\n",
    "    \n",
    "    \n",
    "print(command_ad(documents=DOCUMENTS, directories=DIRECTORIES))\n",
    "print(command_ad(documents=DOCUMENTS, directories=DIRECTORIES))"
   ]
  },
  {
   "cell_type": "markdown",
   "metadata": {},
   "source": [
    "#### Пункт 2. Пользователь по команде \"d\" может удалить документ из данных"
   ]
  },
  {
   "cell_type": "code",
   "execution_count": 66,
   "metadata": {},
   "outputs": [
    {
     "name": "stdout",
     "output_type": "stream",
     "text": [
      "Введите номер документа: 42\n",
      "Документ не найден в базе. \n",
      "Текущий список документов:\n",
      "№: 2207 876234, тип: passport, владелец: Василий Гупкин, полка хранения: 1 \n",
      "№: 11-2, тип: invoice, владелец: Геннадий Покемонов, полка хранения: 1 \n",
      "№: 10006, тип: insurance, владелец: Аристарх Павлов, полка хранения: 2 \n",
      "\n",
      "Введите номер документа: 10006\n",
      "Документ удален. \n",
      "Текущий список документов:\n",
      "№: 2207 876234, тип: passport, владелец: Василий Гупкин, полка хранения: 1 \n",
      "№: 11-2, тип: invoice, владелец: Геннадий Покемонов, полка хранения: 1 \n",
      "\n"
     ]
    }
   ],
   "source": [
    "def command_d(documents, directories):\n",
    "    document_number = input('Введите номер документа: ')\n",
    "    if check(number=document_number, documents=documents):\n",
    "        counter = -1\n",
    "        for row in documents:\n",
    "            counter += 1\n",
    "            if row['number'] == document_number:\n",
    "                documents.remove(documents[counter])\n",
    "                break\n",
    "        directories[get_shelf_number(document_number, directories)].remove(document_number)\n",
    "        return \"Документ удален. \\nТекущий список документов:\\n\" + command_list(documents, directories)\n",
    "    else:\n",
    "        return 'Документ не найден в базе. \\nТекущий список документов:\\n' + command_list(documents, directories)\n",
    "    \n",
    "    \n",
    "print(command_d(documents=DOCUMENTS, directories=DIRECTORIES))\n",
    "print(command_d(documents=DOCUMENTS, directories=DIRECTORIES))"
   ]
  },
  {
   "cell_type": "markdown",
   "metadata": {},
   "source": [
    "#### Пункт 3. Пользователь по команде \"m\" может переместить документ с полки на полку"
   ]
  },
  {
   "cell_type": "code",
   "execution_count": 68,
   "metadata": {},
   "outputs": [
    {
     "name": "stdout",
     "output_type": "stream",
     "text": [
      "Введите номер документа: 42\n",
      "Введите номер полки: 2\n",
      "Документ не найден в базе. \n",
      "Текущий список документов:\n",
      "№: 2207 876234, тип: passport, владелец: Василий Гупкин, полка хранения: 1 \n",
      "№: 11-2, тип: invoice, владелец: Геннадий Покемонов, полка хранения: 1 \n",
      "№: 10006, тип: insurance, владелец: Аристарх Павлов, полка хранения: 2 \n",
      "\n",
      "Введите номер документа: 11-2\n",
      "Введите номер полки: 10\n",
      "Такой полки не существует. Текущий перечень полок: 1, 2, 3\n",
      "Введите номер документа: 11-2\n",
      "Введите номер полки: 3\n",
      "Документ перемещен.\n",
      "Текущий список документов:\n",
      "№: 2207 876234, тип: passport, владелец: Василий Гупкин, полка хранения: 1 \n",
      "№: 11-2, тип: invoice, владелец: Геннадий Покемонов, полка хранения: 3 \n",
      "№: 10006, тип: insurance, владелец: Аристарх Павлов, полка хранения: 2 \n",
      "\n"
     ]
    }
   ],
   "source": [
    "def command_m(documents, directories):\n",
    "    document_number = input('Введите номер документа: ')\n",
    "    shelf_number = input('Введите номер полки: ')\n",
    "    if check(number=document_number, documents=documents) and shelf_number in list(directories.keys()):\n",
    "        directories[get_shelf_number(number=document_number, directories=directories)].remove(document_number)\n",
    "        directories[shelf_number].append(document_number)\n",
    "        return \"Документ перемещен.\\nТекущий список документов:\\n\" + \\\n",
    "               command_list(documents, directories)\n",
    "    elif check(number=document_number, documents=documents):\n",
    "        return 'Такой полки не существует. Текущий перечень полок: ' + \", \".join(list(directories.keys()))\n",
    "    else:\n",
    "        return 'Документ не найден в базе. \\nТекущий список документов:\\n' + command_list(documents, directories)\n",
    "    \n",
    "\n",
    "print(command_m(documents=DOCUMENTS, directories=DIRECTORIES))\n",
    "print(command_m(documents=DOCUMENTS, directories=DIRECTORIES))\n",
    "print(command_m(documents=DOCUMENTS, directories=DIRECTORIES))"
   ]
  },
  {
   "cell_type": "markdown",
   "metadata": {},
   "source": [
    "### Main"
   ]
  },
  {
   "cell_type": "code",
   "execution_count": 76,
   "metadata": {},
   "outputs": [
    {
     "name": "stdout",
     "output_type": "stream",
     "text": [
      "Введите команду: any\n",
      "\n",
      "        Введите корректную команду\n",
      "            \"p\" - узнать владельца документа по его номеру\n",
      "            \"s\" - по номеру документа узнать на какой полке он хранится\n",
      "            \"/\" - полная информация по всем документам\n",
      "            \"ads\" - добавить новую полку\n",
      "            \"ds\" - удалить существующую полку из данных (только если она пустая)\n",
      "            \"ad\" - добавить новый документ в данные\n",
      "            \"d\" - удалить документ из данных\n",
      "            \"m\" - переместить документ с полки на полку\n",
      "            \"q\" - завершить исполнение программы\n",
      "             \n",
      "Введите команду:p\n",
      "Введите номер документа:10006\n",
      "Владелец документа: Аристарх Павлов\n",
      "\n",
      "Введите команду: s\n",
      "Введите номер полки: 10006\n",
      "Документ хранится на полке: 2\n",
      "\n",
      "Введите команду: /\n",
      "№: 2207 876234, тип: passport, владелец: Василий Гупкин, полка хранения: 1 \n",
      "№: 11-2, тип: invoice, владелец: Геннадий Покемонов, полка хранения: 1 \n",
      "№: 10006, тип: insurance, владелец: Аристарх Павлов, полка хранения: 2\n",
      "\n",
      "Введите команду: ads\n",
      "Введите номер полки: 10\n",
      "Полка добавлена. Текущий перечень полок: 1, 2, 3, 10\n",
      "\n",
      "Введите команду: ds\n",
      "Введите номер полки: 3\n",
      "Полка удалена. Текущий перечень полок: 1, 2, 10\n",
      "\n",
      "Введите команду: ad\n",
      "Введите номер документа: 42\n",
      "Введите тип документа: multipassport\n",
      "Введите владельца документа: R2D2\n",
      "Введите полку для хранения: 10\n",
      "Документ добавлен. Текущий список документов: \n",
      "№: 2207 876234, тип: passport, владелец: Василий Гупкин, полка хранения: 1 \n",
      "№: 11-2, тип: invoice, владелец: Геннадий Покемонов, полка хранения: 1 \n",
      "№: 10006, тип: insurance, владелец: Аристарх Павлов, полка хранения: 2 \n",
      "№: 42, тип: multipassport, владелец: R2D2, полка хранения: 10\n",
      "\n",
      "Введите команду: d\n",
      "Введите номер документа: 10006\n",
      "Документ удален. \n",
      "Текущий список документов:\n",
      "№: 2207 876234, тип: passport, владелец: Василий Гупкин, полка хранения: 1 \n",
      "№: 11-2, тип: invoice, владелец: Геннадий Покемонов, полка хранения: 1 \n",
      "№: 42, тип: multipassport, владелец: R2D2, полка хранения: 10\n",
      "\n",
      "Введите команду: m\n",
      "Введите номер документа: 11-2\n",
      "Введите номер полки: 10\n",
      "Документ перемещен.\n",
      "Текущий список документов:\n",
      "№: 2207 876234, тип: passport, владелец: Василий Гупкин, полка хранения: 1 \n",
      "№: 11-2, тип: invoice, владелец: Геннадий Покемонов, полка хранения: 10 \n",
      "№: 42, тип: multipassport, владелец: R2D2, полка хранения: 10\n",
      "\n",
      "Введите команду: q\n"
     ]
    }
   ],
   "source": [
    "def main(documents, directories):\n",
    "    command = input_command()\n",
    "    while command != 'q':\n",
    "        if command == 'p':\n",
    "            print(f'{command_p(documents=documents)}\\n')\n",
    "            command = input_command()\n",
    "        elif command == 's':\n",
    "            print(f'{command_s(documents=documents, directories=directories)}\\n')\n",
    "            command = input_command()\n",
    "        elif command == '/':\n",
    "            print(f'{command_list(documents=documents, directories=directories).strip()}\\n')\n",
    "            command = input_command()\n",
    "        elif command == 'ads':\n",
    "            print(f'{command_ads(directories=directories)}\\n')\n",
    "            command = input_command()\n",
    "        elif command == 'ds':\n",
    "            print(f'{command_ds(directories=directories)}\\n')\n",
    "            command = input_command()\n",
    "        elif command == 'ad':\n",
    "            print(f'{command_ad(documents=documents, directories=directories).strip()}\\n')\n",
    "            command = input_command()\n",
    "        elif command == 'd':\n",
    "            print(f'{command_d(documents=documents, directories=directories).strip()}\\n')\n",
    "            command = input_command()\n",
    "        elif command == 'm':\n",
    "            print(f'{command_m(documents=documents, directories=directories).strip()}\\n')\n",
    "            command = input_command()\n",
    "        \n",
    "if __name__ == '__main__':\n",
    "    main(documents=DOCUMENTS, directories=DIRECTORIES)"
   ]
  },
  {
   "cell_type": "code",
   "execution_count": null,
   "metadata": {},
   "outputs": [],
   "source": []
  }
 ],
 "metadata": {
  "kernelspec": {
   "display_name": "Python 3",
   "language": "python",
   "name": "python3"
  },
  "language_info": {
   "codemirror_mode": {
    "name": "ipython",
    "version": 3
   },
   "file_extension": ".py",
   "mimetype": "text/x-python",
   "name": "python",
   "nbconvert_exporter": "python",
   "pygments_lexer": "ipython3",
   "version": "3.8.5"
  }
 },
 "nbformat": 4,
 "nbformat_minor": 4
}

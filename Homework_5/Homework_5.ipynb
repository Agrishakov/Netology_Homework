{
 "cells": [
  {
   "cell_type": "markdown",
   "metadata": {},
   "source": [
    "## Домашнее задание к лекции \"Функции\"\n",
    "\n",
    "Вам нужно помочь секретарю автоматизировать работу. Для этого нужно написать программу, которая будет на основе хранимых данных исполнять пользовательские команды.\n",
    "\n",
    "Общие требования к программе:\n",
    "\n",
    "- код должен быть грамотно декомпозирован (каждая функция отвечает за свою конкретную задачу, дублирующийся функционал переиспользуется, а его код не повторяется);\n",
    "- в коде отсутствуют глобальные переменные (за исключением documents и directories);\n",
    "- пользовательский ввод обрабатывается в цикле while до тех пор, пока пользователь явно не завершит программу (вводом команды \"q\")."
   ]
  },
  {
   "cell_type": "code",
   "execution_count": 1,
   "metadata": {},
   "outputs": [],
   "source": [
    "import copy\n",
    "\n",
    "DOCUMENTS = [\n",
    " {'type': 'passport', 'number': '2207 876234', 'name': 'Василий Гупкин'},\n",
    " {'type': 'invoice', 'number': '11-2', 'name': 'Геннадий Покемонов'},\n",
    " {'type': 'insurance', 'number': '10006', 'name': 'Аристарх Павлов'}\n",
    "]\n",
    "\n",
    "DIRECTORIES = {\n",
    " '1': ['2207 876234', '11-2'],\n",
    " '2': ['10006'],\n",
    " '3': []\n",
    "}"
   ]
  },
  {
   "cell_type": "code",
   "execution_count": 2,
   "metadata": {},
   "outputs": [],
   "source": [
    "def input_command():\n",
    "    \"\"\"\n",
    "    check if user input is correct otherwise return list of commands\n",
    "    \"\"\"\n",
    "    command = input('Введите команду: ')\n",
    "    while (command != 'p' and command != 's' and command != '/' and command != 'ads' and command != 'ds'\n",
    "           and command != 'ad' and command != 'd' and command != 'm' and command != 'q'):\n",
    "        print(\"\"\"\n",
    "        Введите корректную команду\n",
    "            \"p\" - узнать владельца документа по его номеру\n",
    "            \"s\" - по номеру документа узнать на какой полке он хранится\n",
    "            \"/\" - полная информация по всем документам\n",
    "            \"ads\" - добавить новую полку\n",
    "            \"ds\" - удалить существующую полку из данных (только если она пустая)\n",
    "            \"ad\" - добавить новый документ в данные\n",
    "            \"d\" - удалить документ из данных\n",
    "            \"m\" - переместить документ с полки на полку\n",
    "            \"q\" - завершить исполнение программы\n",
    "             \"\"\")\n",
    "        command = input('Введите команду:')\n",
    "    else:\n",
    "        return command"
   ]
  },
  {
   "cell_type": "markdown",
   "metadata": {},
   "source": [
    "### Задание 1\n",
    "\n",
    "##### Пункт 1. Пользователь по команде \"p\" может узнать владельца документа по его номеру"
   ]
  },
  {
   "cell_type": "code",
   "execution_count": 4,
   "metadata": {},
   "outputs": [
    {
     "name": "stdout",
     "output_type": "stream",
     "text": [
      "Введите номер документа:10006\n",
      "Владелец документа: Аристарх Павлов\n",
      "Введите номер документа:123456\n",
      "Документ не найден в базе\n"
     ]
    }
   ],
   "source": [
    "def check(number):\n",
    "    result = str()\n",
    "    for document in DOCUMENTS:\n",
    "        if document['number'] == number:\n",
    "            result = 'Владелец документа: ' + document['name']\n",
    "            break\n",
    "    if result:\n",
    "        return result\n",
    "    else:\n",
    "        return \n",
    "\n",
    "\n",
    "def command_p():\n",
    "    doc_number = input('Введите номер документа:')\n",
    "    check_result = check(doc_number)\n",
    "    if check_result:\n",
    "        return check_result\n",
    "    else:\n",
    "        return 'Документ не найден в базе'\n",
    "\n",
    "\n",
    "print(command_p())\n",
    "print(command_p())"
   ]
  },
  {
   "cell_type": "markdown",
   "metadata": {},
   "source": [
    "##### Пункт 2. Пользователь по команде \"s\" может по номеру документа узнать на какой полке он хранится"
   ]
  },
  {
   "cell_type": "code",
   "execution_count": 5,
   "metadata": {},
   "outputs": [
    {
     "name": "stdout",
     "output_type": "stream",
     "text": [
      "Введите номер полки: 10006\n",
      "Документ хранится на полке: 2\n",
      "Введите номер полки: 123456\n",
      "Документ не найден в базе\n"
     ]
    }
   ],
   "source": [
    "def get_shelf_number(number, directory=DIRECTORIES):\n",
    "    for shelf, numbers in directory.items():\n",
    "        if number in numbers:\n",
    "            return shelf\n",
    "\n",
    "\n",
    "def command_s():\n",
    "    shelf_number = input('Введите номер полки: ')\n",
    "    if check(shelf_number):\n",
    "        return 'Документ хранится на полке: ' + str(get_shelf_number(shelf_number))\n",
    "    else:\n",
    "        return 'Документ не найден в базе'\n",
    "\n",
    "print(command_s())\n",
    "print(command_s())"
   ]
  },
  {
   "cell_type": "markdown",
   "metadata": {},
   "source": [
    "#### Пункт 3. Пользователь по команде \"/\" может увидеть полную информацию по всем документам"
   ]
  },
  {
   "cell_type": "code",
   "execution_count": 6,
   "metadata": {},
   "outputs": [
    {
     "name": "stdout",
     "output_type": "stream",
     "text": [
      "№: 2207 876234, тип: passport, владелец: Василий Гупкин, полка хранения: 1 \n",
      "№: 11-2, тип: invoice, владелец: Геннадий Покемонов, полка хранения: 1 \n",
      "№: 10006, тип: insurance, владелец: Аристарх Павлов, полка хранения: 2 \n",
      "\n"
     ]
    }
   ],
   "source": [
    "def command_line(documents=DOCUMENTS, directory=DIRECTORIES):\n",
    "    result_string = ''\n",
    "    for document in documents:\n",
    "        result_string += (f\"№: {document['number']}, тип: {document['type']}, владелец: {document['name']}, \"\n",
    "                          f\"полка хранения: {get_shelf_number(document['number'], directory)} \\n\")\n",
    "    return result_string\n",
    "\n",
    "\n",
    "print(command_line())"
   ]
  },
  {
   "cell_type": "markdown",
   "metadata": {},
   "source": [
    "#### Пункт 4. Пользователь по команде \"ads\" может добавить новую полку"
   ]
  },
  {
   "cell_type": "code",
   "execution_count": 7,
   "metadata": {},
   "outputs": [
    {
     "name": "stdout",
     "output_type": "stream",
     "text": [
      "Введите номер полки: 10\n",
      "Полка добавлена. Текущий перечень полок: 1, 2, 3, 10\n",
      "Введите номер полки: 1\n",
      "Такая полка уже существует. Текущий перечень полок: 1, 2, 3\n"
     ]
    }
   ],
   "source": [
    "def command_ads():\n",
    "    shelf_number = input('Введите номер полки: ')\n",
    "    if shelf_number in DIRECTORIES.keys():\n",
    "        return 'Такая полка уже существует. Текущий перечень полок: ' + \", \".join(list(DIRECTORIES.keys()))\n",
    "    else:\n",
    "        directories_copy = copy.deepcopy(DIRECTORIES)\n",
    "        directories_copy[shelf_number] = []\n",
    "        return 'Полка добавлена. Текущий перечень полок: ' + \", \".join(list(directories_copy.keys()))\n",
    "    \n",
    "print(command_ads())\n",
    "print(command_ads())"
   ]
  },
  {
   "cell_type": "markdown",
   "metadata": {},
   "source": [
    "#### Пункт 5. Пользователь по команде \"ds\" может удалить существующую полку из данных (только если она пустая)"
   ]
  },
  {
   "cell_type": "code",
   "execution_count": 8,
   "metadata": {},
   "outputs": [
    {
     "name": "stdout",
     "output_type": "stream",
     "text": [
      "Введите номер полки: 3\n",
      "Полка удалена. Текущий перечень полок: 1, 2\n",
      "Введите номер полки: 1\n",
      "На полке есть документ(ты), удалите их перед удалением полки. Текущий перечень полок: 1, 2, 3\n",
      "Введите номер полки: 4\n",
      "Такой полки не существует. Текущий перечень полок: 1, 2, 3\n"
     ]
    }
   ],
   "source": [
    "def command_ds():\n",
    "    shelf_number = input('Введите номер полки: ')\n",
    "    if shelf_number in DIRECTORIES.keys() and DIRECTORIES[shelf_number] == []:\n",
    "        directories_copy = copy.deepcopy(DIRECTORIES)\n",
    "        del (directories_copy[shelf_number])\n",
    "        return 'Полка удалена. Текущий перечень полок: ' + \", \".join(list(directories_copy.keys()))\n",
    "    elif shelf_number in DIRECTORIES.keys():\n",
    "        return ('На полке есть документ(ты), удалите их перед удалением полки. Текущий перечень полок: ' +\n",
    "                \", \".join(list(DIRECTORIES.keys())))\n",
    "    else:\n",
    "        return 'Такой полки не существует. Текущий перечень полок: ' + \", \".join(list(DIRECTORIES.keys()))\n",
    "\n",
    "\n",
    "print(command_ds())\n",
    "print(command_ds())\n",
    "print(command_ds())"
   ]
  },
  {
   "cell_type": "markdown",
   "metadata": {},
   "source": [
    "### Задание 2 (необязательное)\n",
    "\n",
    "Вам необходимо дополнить программу из задания 1 более продвинутыми командами."
   ]
  },
  {
   "cell_type": "markdown",
   "metadata": {},
   "source": [
    "#### Пункт 1. Пользователь по команде \"ad\" может добавить новый документ в данные"
   ]
  },
  {
   "cell_type": "code",
   "execution_count": 9,
   "metadata": {},
   "outputs": [
    {
     "name": "stdout",
     "output_type": "stream",
     "text": [
      "Введите номер документа: 42\n",
      "Введите тип документа: multipassport\n",
      "Введите владельца документа: R2D2\n",
      "Введите полку для хранения: 3\n",
      "Документ добавлен. Текущий список документов: \n",
      "№: 2207 876234, тип: passport, владелец: Василий Гупкин, полка хранения: 1 \n",
      "№: 11-2, тип: invoice, владелец: Геннадий Покемонов, полка хранения: 1 \n",
      "№: 10006, тип: insurance, владелец: Аристарх Павлов, полка хранения: 2 \n",
      "№: 42, тип: multipassport, владелец: R2D2, полка хранения: 3 \n",
      "\n",
      "Введите номер документа: 42\n",
      "Введите тип документа: multipassport\n",
      "Введите владельца документа: R2D2\n",
      "Введите полку для хранения: 4\n",
      "Такой полки не существует. Добавьте полку командой ads. \n",
      "Текущий список документов: \n",
      "№: 2207 876234, тип: passport, владелец: Василий Гупкин, полка хранения: 1 \n",
      "№: 11-2, тип: invoice, владелец: Геннадий Покемонов, полка хранения: 1 \n",
      "№: 10006, тип: insurance, владелец: Аристарх Павлов, полка хранения: 2 \n",
      "\n"
     ]
    }
   ],
   "source": [
    "def command_ad():\n",
    "    documents_copy = copy.deepcopy(DOCUMENTS)\n",
    "    directories_copy = copy.deepcopy(DIRECTORIES)\n",
    "    documents_copy.append({\n",
    "        'number': input('Введите номер документа: '),\n",
    "        'type': input('Введите тип документа: '),\n",
    "        'name': input('Введите владельца документа: ')\n",
    "    })\n",
    "    shelf_number = input('Введите полку для хранения: ')\n",
    "    directories_copy[shelf_number] = [documents_copy[-1]['number']]\n",
    "    if shelf_number in list(DIRECTORIES.keys()):\n",
    "        return 'Документ добавлен. Текущий список документов: \\n' + \\\n",
    "               command_line(documents=documents_copy, directory=directories_copy)\n",
    "    else:\n",
    "        return 'Такой полки не существует. Добавьте полку командой ads. \\n' + 'Текущий список документов: \\n' + \\\n",
    "               command_line()\n",
    "    \n",
    "    \n",
    "print(command_ad())\n",
    "print(command_ad())"
   ]
  },
  {
   "cell_type": "markdown",
   "metadata": {},
   "source": [
    "#### Пункт 2. Пользователь по команде \"d\" может удалить документ из данных"
   ]
  },
  {
   "cell_type": "code",
   "execution_count": 10,
   "metadata": {},
   "outputs": [
    {
     "name": "stdout",
     "output_type": "stream",
     "text": [
      "Введите номер документа: 10006\n",
      "Документ удален. \n",
      "Текущий список документов:\n",
      "№: 2207 876234, тип: passport, владелец: Василий Гупкин, полка хранения: 1 \n",
      "№: 11-2, тип: invoice, владелец: Геннадий Покемонов, полка хранения: 1 \n",
      "\n",
      "Введите номер документа: 123456\n",
      "Документ не найден в базе. \n",
      "Текущий список документов:\n",
      "№: 2207 876234, тип: passport, владелец: Василий Гупкин, полка хранения: 1 \n",
      "№: 11-2, тип: invoice, владелец: Геннадий Покемонов, полка хранения: 1 \n",
      "№: 10006, тип: insurance, владелец: Аристарх Павлов, полка хранения: 2 \n",
      "\n"
     ]
    }
   ],
   "source": [
    "def command_d():\n",
    "    documents_copy = copy.deepcopy(DOCUMENTS)\n",
    "    document_number = input('Введите номер документа: ')\n",
    "    documents_copy_filtered = []\n",
    "    if check(document_number):\n",
    "        for document in documents_copy:\n",
    "            if document_number != document['number']:\n",
    "                documents_copy_filtered.append(document)\n",
    "        return \"Документ удален. \\nТекущий список документов:\\n\" + command_line(documents=documents_copy_filtered)\n",
    "    else:\n",
    "        return 'Документ не найден в базе. \\nТекущий список документов:\\n' + command_line()\n",
    "    \n",
    "    \n",
    "print(command_d())\n",
    "print(command_d())"
   ]
  },
  {
   "cell_type": "markdown",
   "metadata": {},
   "source": [
    "#### Пункт 3. Пользователь по команде \"m\" может переместить документ с полки на полку"
   ]
  },
  {
   "cell_type": "code",
   "execution_count": 11,
   "metadata": {},
   "outputs": [
    {
     "name": "stdout",
     "output_type": "stream",
     "text": [
      "Введите номер документа: 11-2\n",
      "Введите номер полки: 3\n",
      "Документ перемещен.\n",
      "Текущий список документов:\n",
      "№: 2207 876234, тип: passport, владелец: Василий Гупкин, полка хранения: 1 \n",
      "№: 11-2, тип: invoice, владелец: Геннадий Покемонов, полка хранения: 3 \n",
      "№: 10006, тип: insurance, владелец: Аристарх Павлов, полка хранения: 2 \n",
      "\n",
      "Введите номер документа: 11-2\n",
      "Введите номер полки: 10\n",
      "Такой полки не существует. Текущий перечень полок: 1, 2, 3\n",
      "Введите номер документа: 42\n",
      "Введите номер полки: 2\n",
      "Документ не найден в базе. \n",
      "Текущий список документов:\n",
      "№: 2207 876234, тип: passport, владелец: Василий Гупкин, полка хранения: 1 \n",
      "№: 11-2, тип: invoice, владелец: Геннадий Покемонов, полка хранения: 1 \n",
      "№: 10006, тип: insurance, владелец: Аристарх Павлов, полка хранения: 2 \n",
      "\n"
     ]
    }
   ],
   "source": [
    "def command_m():\n",
    "    document_number = input('Введите номер документа: ')\n",
    "    shelf_number = input('Введите номер полки: ')\n",
    "    directories_copy = copy.deepcopy(DIRECTORIES)\n",
    "    if check(document_number) and shelf_number in list(DIRECTORIES.keys()):\n",
    "        directories_copy[get_shelf_number(document_number)].remove(document_number)\n",
    "        directories_copy[shelf_number].append(document_number)\n",
    "        return \"Документ перемещен.\\nТекущий список документов:\\n\" + \\\n",
    "               command_line(directory=directories_copy)\n",
    "    elif check(document_number):\n",
    "        return 'Такой полки не существует. Текущий перечень полок: ' + \", \".join(list(DIRECTORIES.keys()))\n",
    "    else:\n",
    "        return 'Документ не найден в базе. \\nТекущий список документов:\\n' + command_line()\n",
    "    \n",
    "\n",
    "print(command_m())\n",
    "print(command_m())\n",
    "print(command_m())"
   ]
  },
  {
   "cell_type": "markdown",
   "metadata": {},
   "source": [
    "### Общие требования к программе:\n",
    "\n",
    "- код должен быть грамотно декомпозирован (каждая функция отвечает за свою конкретную задачу, дублирующийся функционал переиспользуется, а его код не повторяется);\n",
    "- в коде отсутствуют глобальные переменные (за исключением documents и directories);\n",
    "- пользовательский ввод обрабатывается в цикле while до тех пор, пока пользователь явно не завершит программу (вводом команды \"q\")."
   ]
  },
  {
   "cell_type": "code",
   "execution_count": 13,
   "metadata": {},
   "outputs": [
    {
     "name": "stdout",
     "output_type": "stream",
     "text": [
      "Введите команду: any\n",
      "\n",
      "        Введите корректную команду\n",
      "            \"p\" - узнать владельца документа по его номеру\n",
      "            \"s\" - по номеру документа узнать на какой полке он хранится\n",
      "            \"/\" - полная информация по всем документам\n",
      "            \"ads\" - добавить новую полку\n",
      "            \"ds\" - удалить существующую полку из данных (только если она пустая)\n",
      "            \"ad\" - добавить новый документ в данные\n",
      "            \"d\" - удалить документ из данных\n",
      "            \"m\" - переместить документ с полки на полку\n",
      "            \"q\" - завершить исполнение программы\n",
      "             \n",
      "Введите команду:p\n",
      "Введите номер документа:10006\n",
      "Владелец документа: Аристарх Павлов\n",
      "\n",
      "Введите команду: s\n",
      "Введите номер полки: 10006\n",
      "Документ хранится на полке: 2\n",
      "\n",
      "Введите команду: /\n",
      "№: 2207 876234, тип: passport, владелец: Василий Гупкин, полка хранения: 1 \n",
      "№: 11-2, тип: invoice, владелец: Геннадий Покемонов, полка хранения: 1 \n",
      "№: 10006, тип: insurance, владелец: Аристарх Павлов, полка хранения: 2\n",
      "\n",
      "Введите команду: ads\n",
      "Введите номер полки: 10\n",
      "Полка добавлена. Текущий перечень полок: 1, 2, 3, 10\n",
      "\n",
      "Введите команду: ds\n",
      "Введите номер полки: d\n",
      "Такой полки не существует. Текущий перечень полок: 1, 2, 3\n",
      "\n",
      "Введите команду: ad\n",
      "Введите номер документа: 42\n",
      "Введите тип документа: multipassport\n",
      "Введите владельца документа: R2D2\n",
      "Введите полку для хранения: 3\n",
      "Документ добавлен. Текущий список документов: \n",
      "№: 2207 876234, тип: passport, владелец: Василий Гупкин, полка хранения: 1 \n",
      "№: 11-2, тип: invoice, владелец: Геннадий Покемонов, полка хранения: 1 \n",
      "№: 10006, тип: insurance, владелец: Аристарх Павлов, полка хранения: 2 \n",
      "№: 42, тип: multipassport, владелец: R2D2, полка хранения: 3\n",
      "\n",
      "Введите команду: d\n",
      "Введите номер документа: 10006\n",
      "Документ удален. \n",
      "Текущий список документов:\n",
      "№: 2207 876234, тип: passport, владелец: Василий Гупкин, полка хранения: 1 \n",
      "№: 11-2, тип: invoice, владелец: Геннадий Покемонов, полка хранения: 1\n",
      "\n",
      "Введите команду: m\n",
      "Введите номер документа: 11-2\n",
      "Введите номер полки: 3\n",
      "Документ перемещен.\n",
      "Текущий список документов:\n",
      "№: 2207 876234, тип: passport, владелец: Василий Гупкин, полка хранения: 1 \n",
      "№: 11-2, тип: invoice, владелец: Геннадий Покемонов, полка хранения: 3 \n",
      "№: 10006, тип: insurance, владелец: Аристарх Павлов, полка хранения: 2\n",
      "\n",
      "Введите команду: q\n"
     ]
    }
   ],
   "source": [
    "def main():\n",
    "    command = input_command()\n",
    "    commands_dict = {\n",
    "        'p': command_p,\n",
    "        's': command_s,\n",
    "        '/': command_line,\n",
    "        'ads': command_ads,\n",
    "        'ds': command_ds,\n",
    "        'ad': command_ad,\n",
    "        'd': command_d,\n",
    "        'm': command_m\n",
    "    }\n",
    "    while command != 'q':\n",
    "        print(commands_dict[command]().strip())\n",
    "        print()\n",
    "        command = input_command()\n",
    "\n",
    "        \n",
    "if __name__ == '__main__':\n",
    "    main()"
   ]
  }
 ],
 "metadata": {
  "kernelspec": {
   "display_name": "Python 3",
   "language": "python",
   "name": "python3"
  },
  "language_info": {
   "codemirror_mode": {
    "name": "ipython",
    "version": 3
   },
   "file_extension": ".py",
   "mimetype": "text/x-python",
   "name": "python",
   "nbconvert_exporter": "python",
   "pygments_lexer": "ipython3",
   "version": "3.8.5"
  }
 },
 "nbformat": 4,
 "nbformat_minor": 4
}

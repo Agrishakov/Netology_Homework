{
 "cells": [
  {
   "cell_type": "markdown",
   "metadata": {},
   "source": [
    "# Домашнее задание к лекции \"Основы Python\""
   ]
  },
  {
   "cell_type": "markdown",
   "metadata": {},
   "source": [
    "### Задание 1\n",
    "\n",
    "Даны 2 переменные, в которых хранятся строки произвольной длины: phrase_1 и phrase_2.\n",
    "Напишите код, который проверяет какая из этих строк длиннее."
   ]
  },
  {
   "cell_type": "code",
   "execution_count": 5,
   "metadata": {},
   "outputs": [
    {
     "name": "stdout",
     "output_type": "stream",
     "text": [
      "Фразы равной длины\n"
     ]
    }
   ],
   "source": [
    "phrase_1 = 'Насколько проще было бы писать программы, если бы не заказчики'\n",
    "phrase_2 = 'Насколько проще было бы писать программы, если бы не заказчики'\n",
    "\n",
    "\n",
    "if phrase_1 > phrase_2:\n",
    "    print('Фраза 1 длиннее фразы 2')\n",
    "elif phrase_1 == phrase_2:\n",
    "    print('Фразы равной длины')\n",
    "else:\n",
    "    print('Фраза 2 длиннее фразы 1')"
   ]
  },
  {
   "cell_type": "markdown",
   "metadata": {},
   "source": [
    "### Задание 2\n",
    "Дана переменная, в которой хранится четырехзначное число (год). Необходимо написать программу, которая выведет, \n",
    "является ли данный год високосным или обычным."
   ]
  },
  {
   "cell_type": "code",
   "execution_count": 11,
   "metadata": {},
   "outputs": [
    {
     "name": "stdout",
     "output_type": "stream",
     "text": [
      "Обычный год\n"
     ]
    }
   ],
   "source": [
    "year = 2019\n",
    "\n",
    "\n",
    "if year % 4 == 0:\n",
    "    if year % 100 == 0:\n",
    "        if year % 400 == 0:\n",
    "            print('Високосный год')\n",
    "        else:\n",
    "            print('Обычный год')\n",
    "    else:\n",
    "        print('Високосный год')\n",
    "else:\n",
    "    print('Обычный год')"
   ]
  },
  {
   "cell_type": "markdown",
   "metadata": {},
   "source": [
    "### Задание 3\n",
    "Необходимо написать программу, которая будет запрашивать у пользователя месяц и дату рождения и выводить соответствующий \n",
    "знак зодиака."
   ]
  },
  {
   "cell_type": "code",
   "execution_count": 13,
   "metadata": {},
   "outputs": [
    {
     "name": "stdout",
     "output_type": "stream",
     "text": [
      "Введите день:29\n",
      "Введите месяц:Октябрь\n",
      "Ваш знак зодиака: Скорпион\n"
     ]
    }
   ],
   "source": [
    "day = input('Введите день:')\n",
    "month = input('Введите месяц:')\n",
    "\n",
    "if month == \"Январь\":\n",
    "    date = '01-' + day\n",
    "elif month == \"Февраль\":\n",
    "    date = '02-' + day\n",
    "elif month == \"Март\":\n",
    "    date = '03-' + day\n",
    "elif month == \"Апрель\":\n",
    "    date = '04-' + day\n",
    "elif month == \"Май\":\n",
    "    date = '05-' + day\n",
    "elif month == \"Июнь\":\n",
    "    date = '06-' + day\n",
    "elif month == \"Июль\":\n",
    "    date = '07-' + day\n",
    "elif month == \"Август\":\n",
    "    date = '08-' + day\n",
    "elif month == \"Сентябрь\":\n",
    "    date = '09-' + day\n",
    "elif month == \"Октябрь\":\n",
    "    date = '10-' + day\n",
    "elif month == \"Ноябрь\":\n",
    "    date = '11-' + day\n",
    "else:\n",
    "    date = '12-' + day\n",
    "\n",
    "if '03-21' <= date <= '04-20':\n",
    "    print('Ваш знак зодиака: Овен')\n",
    "elif '04-21' <= date <= '05-21':\n",
    "    print('Ваш знак зодиака: Телец')\n",
    "elif '05-22' <= date <= '06-21':\n",
    "    print('Ваш знак зодиака: Близнецы')\n",
    "elif '06-22' <= date <= '07-22':\n",
    "    print('Ваш знак зодиака: Рак')\n",
    "elif '07-23' <= date <= '08-21':\n",
    "    print('Ваш знак зодиака: Лев')\n",
    "elif '08-22' <= date <= '09-23':\n",
    "    print('Ваш знак зодиака: Дева')\n",
    "elif '09-24' <= date <= '10-23':\n",
    "    print('Ваш знак зодиака: Весы')\n",
    "elif '10-24' <= date <= '11-22':\n",
    "    print('Ваш знак зодиака: Скорпион')\n",
    "elif '11-23' <= date <= '12-22':\n",
    "    print('Ваш знак зодиака: Стрелец')\n",
    "elif '12-23' <= date <= '01-20':\n",
    "    print('Ваш знак зодиака: Козерог')\n",
    "elif '01-21' <= date <= '02-19':\n",
    "    print('Ваш знак зодиака: Водолей')\n",
    "else:\n",
    "    print('Ваш знак зодиака: Рыбы')"
   ]
  },
  {
   "cell_type": "markdown",
   "metadata": {},
   "source": [
    "### Задание 4\n",
    "\n",
    "Вам нужно написать программу для подбора упаковок по размерам товара. Размеры (ширина, длина, высота) хранятся в переменных (в сантиметрах):\n",
    "\n",
    "Используйте следующие правила:\n",
    "\n",
    "если каждое из трех измерений менее 15 сантиметров, то выведите на экран \"Коробка №1\";\n",
    "если хотя бы одно из измерений больше 15 сантиметров, но менее 50 сантиметров, то выводите \"Коробка №2\";\n",
    "если длина товара больше 2 метров, то выводите \"Упаковка для лыж\";\n",
    "во всех остальных случаях выводите \"Стандартная коробка №3\"."
   ]
  },
  {
   "cell_type": "code",
   "execution_count": 14,
   "metadata": {},
   "outputs": [
    {
     "name": "stdout",
     "output_type": "stream",
     "text": [
      "Упаковка для лыж\n"
     ]
    }
   ],
   "source": [
    "width = 45\n",
    "length = 205\n",
    "height = 45\n",
    "\n",
    "\n",
    "if width and length and height < 15:\n",
    "    print('Коробка №1')\n",
    "elif length > 200:\n",
    "    print('Упаковка для лыж')\n",
    "elif 15 < width < 50 or 15 < length < 50 or 15 < height < 50:\n",
    "    print('Коробка №2')\n",
    "else:\n",
    "    print('Стандартная коробка №3')"
   ]
  },
  {
   "cell_type": "markdown",
   "metadata": {},
   "source": [
    "### Задание 5 (необязательное)\n",
    "Дана переменная, в которой хранится шестизначное число (номер проездного билета). Напишите программу, которая будет определять, является ли данный билет \"счастливым\". Билет считается счастливым, если сумма первых трех цифр совпадает с суммой последних трех цифр номера."
   ]
  },
  {
   "cell_type": "code",
   "execution_count": 36,
   "metadata": {},
   "outputs": [
    {
     "name": "stdout",
     "output_type": "stream",
     "text": [
      "Счастливый билет\n"
     ]
    }
   ],
   "source": [
    "number = 906456\n",
    "\n",
    "\n",
    "first_number = number // 100000\n",
    "second_number = (number - first_number * 100000) // 10000\n",
    "third_number = (number - first_number * 100000 - second_number * 10000) // 1000\n",
    "fourth_number = (number - first_number * 100000 - second_number * 10000 - third_number * 1000) // 100\n",
    "fifth_number = (number - first_number * 100000 - second_number * 10000 - third_number * 1000 - fourth_number * 100) // 10\n",
    "sixth_number = (number - first_number * 100000 - second_number * 10000 - third_number * 1000 - fourth_number * 100 - \n",
    "               fifth_number * 10)\n",
    "\n",
    "if (first_number + second_number + third_number) == (fourth_number + fifth_number + sixth_number):\n",
    "    print('Счастливый билет')\n",
    "else:\n",
    "    print('Неасчастливый билет')"
   ]
  },
  {
   "cell_type": "markdown",
   "metadata": {},
   "source": [
    "### Задание 6 (необязательное)\n",
    "Напишите программу, которая сможет вычислять площади трех фигур (круг, треугольник и прямоугольник). Тип фигуры запрашиваем через пользовательский ввод, после чего делаем запрос характеристик фигуры:\n",
    "\n",
    "если пользователь выбрал круг, запрашиваем его радиус,\n",
    "если треугольник – длины трех его сторон;\n",
    "если прямоугольник – длины двух его сторон."
   ]
  },
  {
   "cell_type": "code",
   "execution_count": 38,
   "metadata": {},
   "outputs": [
    {
     "name": "stdout",
     "output_type": "stream",
     "text": [
      "Введите тип фигуры:Треугольник\n",
      "Введите длину стороны A:2\n",
      "Введите длину стороны B:2\n",
      "Введите длину стороны C:3\n",
      "Площадь треугольника:  1.984313483298443\n"
     ]
    }
   ],
   "source": [
    "figure = input('Введите тип фигуры:')\n",
    "if figure == 'Круг':\n",
    "    radius = int(input('Введите радиус круга:'))\n",
    "    area = 3.1416 * (radius ** 2)\n",
    "    print('Площадь круга: ',area)\n",
    "elif figure == 'Треугольник':\n",
    "    side_1 = int(input('Введите длину стороны A:'))\n",
    "    side_2 = int(input('Введите длину стороны B:'))\n",
    "    side_3 = int(input('Введите длину стороны C:'))\n",
    "    semiperimeter = (side_1 + side_2 + side_3) / 2\n",
    "    area = (semiperimeter * (semiperimeter - side_1) * (semiperimeter - side_2) * (semiperimeter - side_3)) ** 0.5\n",
    "    print('Площадь треугольника: ',area)\n",
    "elif figure == 'Прямоугольник':\n",
    "    side_1 = int(input('Введите длину стороны A:'))\n",
    "    side_2 = int(input('Введите длину стороны B:'))\n",
    "    area = side_1 * side_2\n",
    "    print('Площадь прямоугольника: ',area)"
   ]
  }
 ],
 "metadata": {
  "kernelspec": {
   "display_name": "Python 3",
   "language": "python",
   "name": "python3"
  },
  "language_info": {
   "codemirror_mode": {
    "name": "ipython",
    "version": 3
   },
   "file_extension": ".py",
   "mimetype": "text/x-python",
   "name": "python",
   "nbconvert_exporter": "python",
   "pygments_lexer": "ipython3",
   "version": "3.8.5"
  }
 },
 "nbformat": 4,
 "nbformat_minor": 4
}

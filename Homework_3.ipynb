{
 "cells": [
  {
   "cell_type": "markdown",
   "metadata": {},
   "source": [
    "## Домашнее задание к лекции \"Введение в типы данных и циклы. Часть 1\"\n",
    "\n",
    "### Задание 1\n",
    "\n",
    "Дана переменная, в которой хранится слово из латинских букв. Напишите код, который выводит на экран:\n",
    "среднюю букву, если число букв в слове нечетное;\n",
    "две средних буквы, если число букв четное."
   ]
  },
  {
   "cell_type": "code",
   "execution_count": 14,
   "metadata": {},
   "outputs": [
    {
     "name": "stdout",
     "output_type": "stream",
     "text": [
      "se\n"
     ]
    }
   ],
   "source": [
    "word = 'test'\n",
    "half_length = len(word) // 2\n",
    "\n",
    "if len(word) % 2 == 0:\n",
    "    index_1, index_2 = (half_length, half_length - 1)\n",
    "    print(f'{word[index_1]}{word[index_2]}')\n",
    "else:\n",
    "    print(word[half_length])"
   ]
  },
  {
   "cell_type": "markdown",
   "metadata": {},
   "source": [
    "### Задание 2\n",
    "\n",
    "Напишите программу, которая последовательно запрашивает у пользователя числа (по одному за раз) и после первого нуля выводит сумму всех ранее введенных чисел."
   ]
  },
  {
   "cell_type": "code",
   "execution_count": 1,
   "metadata": {},
   "outputs": [
    {
     "name": "stdout",
     "output_type": "stream",
     "text": [
      "Введите число:1\n",
      "Введите число:4\n",
      "Введите число:6\n",
      "Введите число:0\n",
      "Результат:\n",
      "11\n"
     ]
    }
   ],
   "source": [
    "results = []\n",
    "while 0 not in results:\n",
    "    results.append(int(input('Введите число:')))\n",
    "else:\n",
    "    print('Результат:')\n",
    "    print(sum(results))"
   ]
  },
  {
   "cell_type": "markdown",
   "metadata": {},
   "source": [
    "### Задание 3\n",
    "\n",
    "Мы делаем .[MVP](https://ru.wikipedia.org/wiki/%D0%9C%D0%B8%D0%BD%D0%B8%D0%BC%D0%B0%D0%BB%D1%8C%D0%BD%D0%BE_%D0%B6%D0%B8%D0%B7%D0%BD%D0%B5%D1%81%D0%BF%D0%BE%D1%81%D0%BE%D0%B1%D0%BD%D1%8B%D0%B9_%D0%BF%D1%80%D0%BE%D0%B4%D1%83%D0%BA%D1%82) dating-сервиса, и у нас есть список парней и девушек.\n",
    "Выдвигаем гипотезу: лучшие рекомендации мы получим, если просто отсортируем имена по алфавиту и познакомим людей с одинаковыми индексами после сортировки! Но мы не будем никого знакомить, если кто-то может остаться без пары:"
   ]
  },
  {
   "cell_type": "code",
   "execution_count": 2,
   "metadata": {},
   "outputs": [
    {
     "name": "stdout",
     "output_type": "stream",
     "text": [
      "Alex и Emma\n",
      "Arthur и Kate\n",
      "John и Kira\n",
      "Peter и Liza\n",
      "Richard и Trisha\n"
     ]
    }
   ],
   "source": [
    "boys = ['Peter', 'Alex', 'John', 'Arthur', 'Richard']\n",
    "girls = ['Kate', 'Liza', 'Kira', 'Emma', 'Trisha']\n",
    "\n",
    "if len(boys) == len(girls):\n",
    "    dating_list = list(zip(sorted(boys), sorted(girls)))\n",
    "    for couple in dating_list:\n",
    "        print(f'{couple[0]} и {couple[1]}')\n",
    "else:\n",
    "    print('Внимание, кто-то может остаться без пары!')"
   ]
  },
  {
   "cell_type": "markdown",
   "metadata": {},
   "source": [
    "### Задание 4\n",
    "\n",
    "У нас есть список, содержащий информацию о среднедневной температуре в Фаренгейтах за произвольный период по странам (структура данных в примере). Необходимо написать код, который рассчитает среднюю температуру за период в Цельсиях(!) для каждой страны."
   ]
  },
  {
   "cell_type": "code",
   "execution_count": 3,
   "metadata": {},
   "outputs": [
    {
     "name": "stdout",
     "output_type": "stream",
     "text": [
      "Thailand - 23.9 C\n",
      "Germany - 13.8 C\n",
      "Russia - 3.7 C\n",
      "Poland - 12.0 C\n"
     ]
    }
   ],
   "source": [
    "countries_temperature = [\n",
    "    ['Thailand', [75.2, 77, 78.8, 73.4, 68, 75.2, 77]],\n",
    "    ['Germany', [57.2, 55.4, 59, 59, 53.6]],\n",
    "    ['Russia', [35.6, 37.4, 39.2, 41, 42.8, 39.2, 35.6]],\n",
    "    ['Poland', [50, 50, 53.6, 57.2, 55.4, 55.4]]\n",
    "]\n",
    "\n",
    "for row in countries_temperature:\n",
    "    row_temperature = row[1]\n",
    "    countries_temperature_celsius = []\n",
    "    for temperature in row_temperature:\n",
    "        temperature_celsius = (temperature - 32) / 1.8\n",
    "        countries_temperature_celsius.append(temperature_celsius)\n",
    "    mean = sum(countries_temperature_celsius) / len(countries_temperature_celsius)\n",
    "    print(f'{row[0]} - {mean:.1f} C')"
   ]
  },
  {
   "cell_type": "markdown",
   "metadata": {},
   "source": [
    "### без вложенного списка"
   ]
  },
  {
   "cell_type": "code",
   "execution_count": 5,
   "metadata": {},
   "outputs": [
    {
     "name": "stdout",
     "output_type": "stream",
     "text": [
      "Средняя температура в Thailand - 23.9 C\n",
      "Средняя температура в Germany - 13.8 C\n",
      "Средняя температура в Russia - 3.7 C\n",
      "Средняя температура в Poland - 12.0 C\n"
     ]
    }
   ],
   "source": [
    "for element in countries_temperature:\n",
    "    avg_temp = sum(element[1]) / len(element[1])\n",
    "    print(f\"Средняя температура в {element[0]} - {round((avg_temp-32)*5/9, 1)} C\")"
   ]
  },
  {
   "cell_type": "markdown",
   "metadata": {},
   "source": [
    "### Задание 5 (необязательное)\n",
    "\n",
    "Дан поток логов по количеству просмотренных страниц для каждого пользователя. Вам необходимо написать алгоритм, который считает среднее значение просмотров на пользователя. Т. е. надо посчитать отношение суммы всех просмотров к количеству уникальных пользователей."
   ]
  },
  {
   "cell_type": "code",
   "execution_count": 8,
   "metadata": {},
   "outputs": [
    {
     "name": "stdout",
     "output_type": "stream",
     "text": [
      "Результат:\n",
      "Среднее количество просмотров на уникального пользователя: 145.33\n"
     ]
    }
   ],
   "source": [
    "stream = [\n",
    "    '2018-01-01,user100,150',\n",
    "    '2018-01-07,user99,205',\n",
    "    '2018-03-29,user1001,81'\n",
    "]\n",
    "\n",
    "viewings_sum = 0\n",
    "users_list = []\n",
    "\n",
    "for row in stream:\n",
    "    row = row.split(',')\n",
    "    viewings_sum += int(row[-1])\n",
    "    \n",
    "for row in stream:\n",
    "    row = row.split(',')\n",
    "    if row[1] in users_list:\n",
    "        pass\n",
    "    else:\n",
    "        users_list.append(row[1])\n",
    "\n",
    "mean_viewings = viewings_sum / len(users_list)\n",
    "\n",
    "print('Результат:')\n",
    "print(f'Среднее количество просмотров на уникального пользователя: {mean_viewings:.2f}')\n",
    "\n"
   ]
  },
  {
   "cell_type": "markdown",
   "metadata": {},
   "source": [
    "### Одним циклом"
   ]
  },
  {
   "cell_type": "code",
   "execution_count": 15,
   "metadata": {},
   "outputs": [
    {
     "name": "stdout",
     "output_type": "stream",
     "text": [
      "Результат:\n",
      "Среднее количество просмотров на уникального пользователя: 145.33\n"
     ]
    }
   ],
   "source": [
    "stream = [\n",
    "    '2018-01-01,user100,150',\n",
    "    '2018-01-07,user99,205',\n",
    "    '2018-03-29,user1001,81'\n",
    "]\n",
    "\n",
    "viewings_sum = 0\n",
    "users_list = []\n",
    "\n",
    "for el in stream:\n",
    "    splittedel = el.split(',')\n",
    "    if splittedel[1] not in users_list:\n",
    "        users_list.append(splittedel[1])\n",
    "        viewings_sum += int(splittedel[2])\n",
    "    \n",
    "print('Результат:')\n",
    "print(f'Среднее количество просмотров на уникального пользователя: {viewings_sum/len(users_list):.2f}')"
   ]
  },
  {
   "cell_type": "markdown",
   "metadata": {},
   "source": [
    "### Задание 6 (необязательное)\n",
    "\n",
    "Необходимо у пользователя запрашивать набор чисел разделенных пробелом. В результате в отсортированном порядке должны выводиться числа, которые повторяются в вводе более одного раза."
   ]
  },
  {
   "cell_type": "code",
   "execution_count": 1,
   "metadata": {},
   "outputs": [
    {
     "name": "stdout",
     "output_type": "stream",
     "text": [
      "Введите числа:10 15 15 103 200 200 200 1 1 1 1 1 2 2 23\n",
      "1 2 15 200 "
     ]
    }
   ],
   "source": [
    "input = input('Введите числа:')\n",
    "input_split = input.split(' ')\n",
    "input_split_int = []\n",
    "result_list = []\n",
    "\n",
    "for number in input_split:\n",
    "    number_int = int(number)\n",
    "    input_split_int.append(number_int)\n",
    "\n",
    "for number in input_split_int:\n",
    "    if input_split_int.count(number) > 1:\n",
    "        if number not in result_list:\n",
    "            result_list.append(number)\n",
    "\n",
    "for number in sorted(result_list):\n",
    "    print(number, end=' ')"
   ]
  },
  {
   "cell_type": "markdown",
   "metadata": {},
   "source": [
    "### Сокращаем количество циклов"
   ]
  },
  {
   "cell_type": "code",
   "execution_count": 23,
   "metadata": {},
   "outputs": [
    {
     "name": "stdout",
     "output_type": "stream",
     "text": [
      "Введите набор чисел, разделенных пробелом: 10 15 15 103 200 200 200 1 1 1 1 1 2 2 23\n",
      "Повторяющиеся числа в наборе:  1 2 15 200\n"
     ]
    }
   ],
   "source": [
    "numbers = input('Введите набор чисел, разделенных пробелом: ').split(' ')\n",
    "res = []\n",
    "for num in numbers:\n",
    "    if numbers.count(num) > 1 and int(num) not in res:\n",
    "        res.append(int(num))     \n",
    "print('Повторяющиеся числа в наборе: ', ' '.join(map(str, sorted(res))))"
   ]
  }
 ],
 "metadata": {
  "kernelspec": {
   "display_name": "Python 3",
   "language": "python",
   "name": "python3"
  },
  "language_info": {
   "codemirror_mode": {
    "name": "ipython",
    "version": 3
   },
   "file_extension": ".py",
   "mimetype": "text/x-python",
   "name": "python",
   "nbconvert_exporter": "python",
   "pygments_lexer": "ipython3",
   "version": "3.8.5"
  }
 },
 "nbformat": 4,
 "nbformat_minor": 4
}

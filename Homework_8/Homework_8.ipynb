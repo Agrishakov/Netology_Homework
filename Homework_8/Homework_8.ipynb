{
 "cells": [
  {
   "cell_type": "markdown",
   "metadata": {},
   "source": [
    "### Домашнее задание к лекции «Понятие класса»\n",
    "\n",
    "#### Задание 1  \n",
    "\n",
    "Напишите функцию, которая возвращает название валюты (поле ‘Name’) с максимальным значением курса с помощью сервиса  \n",
    "https://www.cbr-xml-daily.ru/daily_json.js"
   ]
  },
  {
   "cell_type": "code",
   "execution_count": 1,
   "metadata": {},
   "outputs": [],
   "source": [
    "from libs.exchange import Rate"
   ]
  },
  {
   "cell_type": "code",
   "execution_count": 2,
   "metadata": {},
   "outputs": [
    {
     "name": "stdout",
     "output_type": "stream",
     "text": [
      "XDR\n"
     ]
    }
   ],
   "source": [
    "def max_value_currency_name():\n",
    "    all_currencies = Rate('full').exchange_rates()\n",
    "    max_currency_value = max([currency[\"Value\"] for currency in all_currencies.values()])\n",
    "    return ', '.join([currency[\"CharCode\"] for currency in all_currencies.values() if currency[\"Value\"] == max_currency_value])\n",
    "\n",
    "print(max_value_currency_name())"
   ]
  },
  {
   "cell_type": "code",
   "execution_count": 3,
   "metadata": {},
   "outputs": [
    {
     "name": "stdout",
     "output_type": "stream",
     "text": [
      "XDR\n"
     ]
    }
   ],
   "source": [
    "def max_value_currency_name():\n",
    "    all_currencies = Rate('full').exchange_rates()\n",
    "    max_value = 0\n",
    "    for currency in all_currencies.values():\n",
    "        if currency[\"Value\"] >= max_value:\n",
    "            max_value = currency[\"Value\"]\n",
    "            max_value_name = currency[\"CharCode\"]\n",
    "    return max_value_name\n",
    "\n",
    "print(max_value_currency_name())"
   ]
  },
  {
   "cell_type": "markdown",
   "metadata": {},
   "source": [
    "#### Задание 2\n",
    "\n",
    "Добавьте в класс Rate параметр diff (со значениями True или False), который в случае значения True в методах курсов валют  \n",
    "(eur, usd итд) будет возвращать не курс валюты, а изменение по сравнению с прошлым значением.  \n",
    "Считайте, self.diff будет принимать значение True только при возврате значения курса. \n",
    "При отображении всей информации о валюте он не используется."
   ]
  },
  {
   "cell_type": "code",
   "execution_count": 9,
   "metadata": {},
   "outputs": [],
   "source": [
    "import requests\n",
    "\n",
    "class Rate:\n",
    "    def __init__(self, format='value', diff=False):\n",
    "        self.format = format\n",
    "        self.diff = diff\n",
    "    \n",
    "    def exchange_rates(self):\n",
    "        \"\"\"\n",
    "        Возвращает ответ сервиса с информацией о валютах в виде:\n",
    "        \n",
    "        {\n",
    "            'AMD': {\n",
    "                'CharCode': 'AMD',\n",
    "                'ID': 'R01060',\n",
    "                'Name': 'Армянских драмов',\n",
    "                'Nominal': 100,\n",
    "                'NumCode': '051',\n",
    "                'Previous': 14.103,\n",
    "                'Value': 14.0879\n",
    "                },\n",
    "            ...\n",
    "        }\n",
    "        \"\"\"\n",
    "        r = requests.get('https://www.cbr-xml-daily.ru/daily_json.js')\n",
    "        return r.json()['Valute']\n",
    "    \n",
    "    def make_format(self, currency):\n",
    "        \"\"\"\n",
    "        Возвращает информацию о валюте currency в следующих вариантах:\n",
    "        1. полная информация о валюте при self.format = 'full':\n",
    "        Rate('full').make_format('EUR')\n",
    "        {\n",
    "            'CharCode': 'EUR',\n",
    "            'ID': 'R01239',\n",
    "            'Name': 'Евро',\n",
    "            'Nominal': 1,\n",
    "            'NumCode': '978',\n",
    "            'Previous': 79.6765,\n",
    "            'Value': 79.4966\n",
    "        }\n",
    "        \n",
    "        2. при self.format = 'value' \n",
    "            2.1. выводит значение курса на текущую дату (если параметр diff=False (по умолчанию False))\n",
    "        Rate('value').make_format('EUR')\n",
    "        79.4966\n",
    "            2.2 выводит разницу между текущим значением курса и предыдущим, если diff=True\n",
    "        Rate(format='value', diff=True).make_format('EUR')\n",
    "        -0.1799\n",
    "        \"\"\"\n",
    "        response = self.exchange_rates()\n",
    "        \n",
    "        if currency in response:\n",
    "            if self.format == 'full':\n",
    "                if self.diff == False:\n",
    "                    return response[currency]\n",
    "                else: \n",
    "                    return \"Error. Use self.diff=True only when format='value'\"\n",
    "            \n",
    "            if self.format == 'value':\n",
    "                if self.diff == False:\n",
    "                    return response[currency]['Value']\n",
    "                else:\n",
    "                    return round(response[currency]['Value'] - response[currency]['Previous'], 4)\n",
    "        \n",
    "        return 'Error'\n",
    "    \n",
    "    def eur(self):\n",
    "        \"\"\"\n",
    "        Возвращает курс евро на сегодня в формате self.format при diff=False (по умолчанию False)\n",
    "        Возвращает разницу между сегодняшним и предыдущим курсом евро при diff=True\n",
    "        \"\"\"\n",
    "        return self.make_format('EUR')\n",
    "    \n",
    "    def usd(self):\n",
    "        \"\"\"\n",
    "        Возвращает курс доллара на сегодня в формате self.format при diff=False (по умолчанию False)\n",
    "        Возвращает разницу между сегодняшним и предыдущим курсом доллара при diff=True\n",
    "        \"\"\"\n",
    "        return self.make_format('USD')\n",
    "\n",
    "    def AZN(self):\n",
    "        \"\"\"\n",
    "        Возвращает курс азербайджанского маната на сегодня в формате self.format при diff=False (по умолчанию False)\n",
    "        Возвращает разницу между сегодняшним и предыдущим курсом азербайджанского маната при diff=True\n",
    "        \"\"\"\n",
    "        return self.make_format('AZN')"
   ]
  },
  {
   "cell_type": "code",
   "execution_count": 5,
   "metadata": {},
   "outputs": [
    {
     "data": {
      "text/plain": [
       "\"Error. Use self.diff=True only when format='value'\""
      ]
     },
     "execution_count": 5,
     "metadata": {},
     "output_type": "execute_result"
    }
   ],
   "source": [
    "Rate(format='full', diff=True).eur()"
   ]
  },
  {
   "cell_type": "code",
   "execution_count": 11,
   "metadata": {},
   "outputs": [
    {
     "data": {
      "text/plain": [
       "{'ID': 'R01235',\n",
       " 'NumCode': '840',\n",
       " 'CharCode': 'USD',\n",
       " 'Nominal': 1,\n",
       " 'Name': 'Доллар США',\n",
       " 'Value': 73.9833,\n",
       " 'Previous': 73.9717}"
      ]
     },
     "execution_count": 11,
     "metadata": {},
     "output_type": "execute_result"
    }
   ],
   "source": [
    "Rate(format='full').usd()"
   ]
  },
  {
   "cell_type": "code",
   "execution_count": 10,
   "metadata": {},
   "outputs": [
    {
     "data": {
      "text/plain": [
       "0.0116"
      ]
     },
     "execution_count": 10,
     "metadata": {},
     "output_type": "execute_result"
    }
   ],
   "source": [
    "Rate(format='value', diff=True).usd()"
   ]
  },
  {
   "cell_type": "code",
   "execution_count": 12,
   "metadata": {},
   "outputs": [
    {
     "data": {
      "text/plain": [
       "73.9833"
      ]
     },
     "execution_count": 12,
     "metadata": {},
     "output_type": "execute_result"
    }
   ],
   "source": [
    "Rate(format='value').usd()"
   ]
  },
  {
   "cell_type": "markdown",
   "metadata": {},
   "source": [
    "#### Задание 3\n",
    "\n",
    "Напишите класс Designer, который учитывает количество международных премий. Подсказки в коде занятия в разделе “Домашнее задание задача 3”."
   ]
  },
  {
   "cell_type": "code",
   "execution_count": 47,
   "metadata": {},
   "outputs": [],
   "source": [
    "from libs.Python_class import Employee\n",
    "\n",
    "class Designer(Employee):\n",
    "    def __init__(self, name, seniority=4):\n",
    "        super().__init__(name, seniority)\n",
    "    \n",
    "    def check_if_it_is_time_for_upgrade(self):\n",
    "        # для каждой международной премии увеличиваем счетчик на 2\n",
    "        self.seniority += 2\n",
    "        \n",
    "        # условие повышения сотрудника из презентации\n",
    "        if self.seniority // 7 > self.grade - 1:\n",
    "            self.grade_up()\n",
    "        \n",
    "        # публикация результатов\n",
    "        return self.publish_grade()"
   ]
  },
  {
   "cell_type": "code",
   "execution_count": 52,
   "metadata": {},
   "outputs": [],
   "source": [
    "vika = Designer(name='Vika')"
   ]
  },
  {
   "cell_type": "code",
   "execution_count": 53,
   "metadata": {},
   "outputs": [
    {
     "name": "stdout",
     "output_type": "stream",
     "text": [
      "Vika 1\n",
      "Имя сотрудника: Vika, Количество балов: 6, Уровень сотрудника: 1\n",
      "Vika 2\n",
      "Имя сотрудника: Vika, Количество балов: 8, Уровень сотрудника: 2\n",
      "Vika 2\n",
      "Имя сотрудника: Vika, Количество балов: 10, Уровень сотрудника: 2\n",
      "Vika 2\n",
      "Имя сотрудника: Vika, Количество балов: 12, Уровень сотрудника: 2\n",
      "Vika 3\n",
      "Имя сотрудника: Vika, Количество балов: 14, Уровень сотрудника: 3\n",
      "Vika 3\n",
      "Имя сотрудника: Vika, Количество балов: 16, Уровень сотрудника: 3\n",
      "Vika 3\n",
      "Имя сотрудника: Vika, Количество балов: 18, Уровень сотрудника: 3\n",
      "Vika 3\n",
      "Имя сотрудника: Vika, Количество балов: 20, Уровень сотрудника: 3\n",
      "Vika 4\n",
      "Имя сотрудника: Vika, Количество балов: 22, Уровень сотрудника: 4\n",
      "Vika 4\n",
      "Имя сотрудника: Vika, Количество балов: 24, Уровень сотрудника: 4\n",
      "Vika 4\n",
      "Имя сотрудника: Vika, Количество балов: 26, Уровень сотрудника: 4\n",
      "Vika 5\n",
      "Имя сотрудника: Vika, Количество балов: 28, Уровень сотрудника: 5\n",
      "Vika 5\n",
      "Имя сотрудника: Vika, Количество балов: 30, Уровень сотрудника: 5\n",
      "Vika 5\n",
      "Имя сотрудника: Vika, Количество балов: 32, Уровень сотрудника: 5\n",
      "Vika 5\n",
      "Имя сотрудника: Vika, Количество балов: 34, Уровень сотрудника: 5\n",
      "Vika 6\n",
      "Имя сотрудника: Vika, Количество балов: 36, Уровень сотрудника: 6\n",
      "Vika 6\n",
      "Имя сотрудника: Vika, Количество балов: 38, Уровень сотрудника: 6\n",
      "Vika 6\n",
      "Имя сотрудника: Vika, Количество балов: 40, Уровень сотрудника: 6\n",
      "Vika 7\n",
      "Имя сотрудника: Vika, Количество балов: 42, Уровень сотрудника: 7\n",
      "Vika 7\n",
      "Имя сотрудника: Vika, Количество балов: 44, Уровень сотрудника: 7\n"
     ]
    }
   ],
   "source": [
    "for _ in range(20):\n",
    "    vika.check_if_it_is_time_for_upgrade()\n",
    "    print(f'Имя сотрудника: {vika.name}, Количество балов: {vika.seniority}, Уровень сотрудника: {vika.grade}')"
   ]
  },
  {
   "cell_type": "code",
   "execution_count": null,
   "metadata": {},
   "outputs": [],
   "source": []
  }
 ],
 "metadata": {
  "celltoolbar": "Необработанный формат ячейки",
  "kernelspec": {
   "display_name": "Python 3",
   "language": "python",
   "name": "python3"
  },
  "language_info": {
   "codemirror_mode": {
    "name": "ipython",
    "version": 3
   },
   "file_extension": ".py",
   "mimetype": "text/x-python",
   "name": "python",
   "nbconvert_exporter": "python",
   "pygments_lexer": "ipython3",
   "version": "3.8.5"
  }
 },
 "nbformat": 4,
 "nbformat_minor": 4
}
